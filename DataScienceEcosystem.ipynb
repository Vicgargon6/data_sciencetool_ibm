{
 "cells": [
  {
   "cell_type": "markdown",
   "id": "84c1e81d-67eb-4d86-b942-d7b1fe878585",
   "metadata": {},
   "source": [
    "# Data Science Tools and Ecosystem"
   ]
  },
  {
   "cell_type": "markdown",
   "id": "3aff347d-c6d0-4b58-8189-d923a56382b5",
   "metadata": {},
   "source": [
    "In this notebook, Data Science Tools and Ecosystem are summarized."
   ]
  },
  {
   "cell_type": "markdown",
   "id": "da5bba3c-a466-4416-a144-731fb2c0d355",
   "metadata": {},
   "source": [
    "Some of the popular languages that Data Scientists use are:\n",
    "- Python\n",
    "- R\n",
    "- Java"
   ]
  },
  {
   "cell_type": "markdown",
   "id": "b7c15dfb-4279-4f1e-abee-1eab0e3eceed",
   "metadata": {},
   "source": [
    "Some of the commonly used libraries used by Data Scientists include:\n",
    "- Pandas\n",
    "- Numpy\n",
    "- Scikit"
   ]
  },
  {
   "cell_type": "markdown",
   "id": "d38ddfc6-a576-4140-8568-962aed28e9b6",
   "metadata": {},
   "source": [
    " | # Data Science Tools |\n",
    " |---|\n",
    "|Jupyter Notebooks|\n",
    "|RStudio|\n",
    "|Anaconda|"
   ]
  },
  {
   "cell_type": "markdown",
   "id": "8a877abc-ef44-43f7-a2ca-0355614bdd4d",
   "metadata": {},
   "source": [
    " ### Below are a few examples of evaluating arithmetic expressions in Python\n",
    " "
   ]
  },
  {
   "cell_type": "code",
   "execution_count": 1,
   "id": "48bd4c6d-ad6a-4b66-9a49-3c8ac6a5c18f",
   "metadata": {
    "tags": []
   },
   "outputs": [
    {
     "name": "stdout",
     "output_type": "stream",
     "text": [
      "17\n"
     ]
    }
   ],
   "source": [
    "a = (3 *4)+5\n",
    "print(a)"
   ]
  },
  {
   "cell_type": "code",
   "execution_count": 4,
   "id": "80ea381b-4107-48b4-a0c2-dfae35367e96",
   "metadata": {
    "tags": []
   },
   "outputs": [
    {
     "name": "stdout",
     "output_type": "stream",
     "text": [
      "3.3333333333333335\n"
     ]
    }
   ],
   "source": [
    "hours =200/60\n",
    "\n",
    "'This will convert 200 minutes to hours by diving by 60 '\n",
    "\n",
    "print(hours)"
   ]
  },
  {
   "cell_type": "markdown",
   "id": "09109a1d-fc4a-45a6-ac90-1ef7706e0bcf",
   "metadata": {},
   "source": [
    "Objectives:\n",
    "    List popular languages for Data Science,\n",
    "    List popular libraries for Data Science,\n",
    "    Styling a juyter notebook and\n",
    "    Code for arithmetic expressions\n",
    "    "
   ]
  },
  {
   "cell_type": "markdown",
   "id": "9cfd4992-172c-4531-91c8-11e966b76324",
   "metadata": {},
   "source": [
    "## Author\n",
    "Victor Garcia González"
   ]
  }
 ],
 "metadata": {
  "kernelspec": {
   "display_name": "Python",
   "language": "python",
   "name": "conda-env-python-py"
  },
  "language_info": {
   "codemirror_mode": {
    "name": "ipython",
    "version": 3
   },
   "file_extension": ".py",
   "mimetype": "text/x-python",
   "name": "python",
   "nbconvert_exporter": "python",
   "pygments_lexer": "ipython3",
   "version": "3.7.12"
  }
 },
 "nbformat": 4,
 "nbformat_minor": 5
}
